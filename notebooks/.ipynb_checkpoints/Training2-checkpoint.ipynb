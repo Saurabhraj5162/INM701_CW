{
 "cells": [
  {
   "cell_type": "code",
   "execution_count": 1,
   "id": "3b725e5b",
   "metadata": {},
   "outputs": [],
   "source": [
    "import pandas as pd\n",
    "import numpy as np\n",
    "import matplotlib.pyplot as plt\n",
    "import seaborn as sns\n",
    "\n",
    "from sklearn.decomposition import PCA\n",
    "from sklearn.tree import DecisionTreeClassifier\n",
    "from imblearn.over_sampling import SMOTE\n",
    "from sklearn.model_selection import train_test_split\n",
    "from sklearn.metrics import confusion_matrix, f1_score, accuracy_score, precision_score,roc_auc_score\n",
    "from sklearn.svm import SVC\n",
    "from tqdm import tqdm\n",
    "from sklearn.neighbors import KNeighborsClassifier\n",
    "from sklearn.ensemble import RandomForestClassifier\n",
    "from sklearn.naive_bayes import GaussianNB\n"
   ]
  },
  {
   "cell_type": "code",
   "execution_count": 2,
   "id": "63cdb102",
   "metadata": {},
   "outputs": [],
   "source": [
    "path = \"/Users/saurabhraj/Desktop/CITY AI/Intro to AI/CW/Data\"\n",
    "df = pd.read_csv(path + \"/data.csv\")"
   ]
  },
  {
   "cell_type": "code",
   "execution_count": 3,
   "id": "04585843",
   "metadata": {},
   "outputs": [],
   "source": [
    "\n",
    "def plot_consufion_matrix(cm, classes, title = 'Confusion Matrix', normalize = False,cmap = plt.cm.Blues ):\n",
    "    \n",
    "    if normalize:\n",
    "        cm = cm.astype('float') / cm.sum(axis=1)[:, np.newaxis]\n",
    "        \n",
    "    plt.imshow(cm,interpolation='nearest', cmap=cmap)\n",
    "    plt.title(title)\n",
    "    plt.colorbar()\n",
    "    tick_marks = np.arange(len(classes))\n",
    "    plt.xticks(tick_marks, classes, rotation=0)\n",
    "    plt.yticks(tick_marks, classes)\n",
    "    plt.tight_layout()\n",
    "    plt.xlabel('Predicted Label')\n",
    "    plt.ylabel('True Label')\n",
    "    \n",
    "    for i in range(len(cm)):\n",
    "        for j in range(len(cm[0])):\n",
    "            plt.text(j,i,cm[i][j], color = 'red', size = 'xx-large', ha = 'center',weight='extra bold')\n",
    "    \n",
    "    \n",
    "def print_evaluation_report(y_test, y_pred, y_pred_proba):\n",
    "    \"\"\"This function prints the merices involved for evalutions of the model.\n",
    "        It also calls the confusioj matrix plot function\n",
    "    \"\"\"\n",
    "    \n",
    "    cm = confusion_matrix(y_test, y_pred)\n",
    "    #np.set_printoptions(precision=2)\n",
    "    #print(cm)\n",
    "    f1 = f1_score(y_test, y_pred, average='macro')\n",
    "    auc = roc_auc_score(y_test, y_pred_proba)\n",
    "    precision = precision_score(y_test, y_pred)\n",
    "    \n",
    "    print('F1 Score : %.2f' % f1)\n",
    "    print('AUC ROC : %.2f' % auc)\n",
    "    print('Precision : %.2f' % precision)\n",
    "    \n",
    "    classes = [0,1]\n",
    "    plt.figure()\n",
    "    plot_consufion_matrix(cm, classes,title = 'Confusion Matrix', normalize = False)\n",
    "    plt.show()\n",
    "    return\n",
    "    \n",
    "    \n",
    "    "
   ]
  },
  {
   "cell_type": "markdown",
   "id": "b90d862e",
   "metadata": {},
   "source": [
    "# 2.2 Under Sampling (without PCA)"
   ]
  },
  {
   "cell_type": "code",
   "execution_count": 6,
   "id": "d744277a",
   "metadata": {},
   "outputs": [
    {
     "name": "stdout",
     "output_type": "stream",
     "text": [
      "DF under sampled shape : (440, 96)\n",
      "X train shape : (352, 95)\n",
      "X test shape : (88, 95)\n"
     ]
    }
   ],
   "source": [
    "def undersample(df):\n",
    "    count_minority = len(df[df['Bankrupt?'] == 1])\n",
    "    df_minority = df[df['Bankrupt?'] == 1]\n",
    "    df_majority = df[df['Bankrupt?'] == 0]\n",
    "    df_majority_underSampled = df_majority.sample(n=count_minority)\n",
    "    df_sampled = pd.concat([df_minority, df_majority_underSampled])\n",
    "    \n",
    "    return df_sampled\n",
    "\n",
    "df_sampled = undersample(df)\n",
    "\n",
    "print(f'DF under sampled shape : {df_sampled.shape}')\n",
    "\n",
    "\n",
    "X = df_sampled.drop('Bankrupt?', axis=1)\n",
    "y = df_sampled['Bankrupt?']\n",
    "X_train, X_test, y_train, y_test = train_test_split(X,y, test_size = 0.20, random_state=42,shuffle=True)\n",
    "print(f'X train shape : {X_train.shape}')\n",
    "print(f'X test shape : {X_test.shape}')"
   ]
  },
  {
   "cell_type": "markdown",
   "id": "f119fb52",
   "metadata": {},
   "source": [
    "## Decision Tree"
   ]
  },
  {
   "cell_type": "code",
   "execution_count": 7,
   "id": "e7807eeb",
   "metadata": {},
   "outputs": [
    {
     "name": "stdout",
     "output_type": "stream",
     "text": [
      "F1 Score : 0.86\n",
      "AUC ROC : 0.87\n",
      "Precision : 0.90\n"
     ]
    },
    {
     "data": {
      "image/png": "[encoded data removed]",
      "text/plain": [
       "<Figure size 432x288 with 2 Axes>"
      ]
     },
     "metadata": {
      "needs_background": "light"
     },
     "output_type": "display_data"
    }
   ],
   "source": [
    "dt = DecisionTreeClassifier(max_depth=40, criterion='entropy', min_samples_split=10).fit(X_train,y_train)\n",
    "y_pred = dt.predict(X_test)\n",
    "y_pred_proba = dt.predict_proba(X_test)[:,1]\n",
    "print_evaluation_report(y_test, y_pred, y_pred_proba)"
   ]
  },
  {
   "cell_type": "markdown",
   "id": "2060a6eb",
   "metadata": {},
   "source": [
    "## Support Vector Classifier"
   ]
  },
  {
   "cell_type": "code",
   "execution_count": 9,
   "id": "eb548898",
   "metadata": {},
   "outputs": [
    {
     "name": "stdout",
     "output_type": "stream",
     "text": [
      "F1 Score : 0.65\n",
      "AUC ROC : 0.69\n",
      "Precision : 0.72\n"
     ]
    },
    {
     "data": {
      "image/png": "[encoded data removed]",
      "text/plain": [
       "<Figure size 432x288 with 2 Axes>"
      ]
     },
     "metadata": {
      "needs_background": "light"
     },
     "output_type": "display_data"
    }
   ],
   "source": [
    "svc = SVC(C=100, kernel = 'rbf', probability=True).fit(X_train, y_train)\n",
    "y_pred = svc.predict(X_test)\n",
    "y_pred_proba = svc.predict_proba(X_test)[:,1]\n",
    "print_evaluation_report(y_test, y_pred, y_pred_proba)"
   ]
  },
  {
   "cell_type": "markdown",
   "id": "91a303dc",
   "metadata": {},
   "source": [
    "## KNN Classifier"
   ]
  },
  {
   "cell_type": "code",
   "execution_count": 10,
   "id": "12baa88e",
   "metadata": {},
   "outputs": [
    {
     "name": "stdout",
     "output_type": "stream",
     "text": [
      "F1 Score : 0.66\n",
      "AUC ROC : 0.68\n",
      "Precision : 0.72\n"
     ]
    },
    {
     "data": {
      "image/png": "[encoded data removed]",
      "text/plain": [
       "<Figure size 432x288 with 2 Axes>"
      ]
     },
     "metadata": {
      "needs_background": "light"
     },
     "output_type": "display_data"
    }
   ],
   "source": [
    "knn = KNeighborsClassifier(n_neighbors=10,weights='distance').fit(X_train, y_train)\n",
    "y_pred = knn.predict(X_test)\n",
    "y_pred_proba = knn.predict_proba(X_test)[:,1]\n",
    "print_evaluation_report(y_test, y_pred, y_pred_proba)\n"
   ]
  },
  {
   "cell_type": "markdown",
   "id": "de756994",
   "metadata": {},
   "source": [
    "## Random Forest"
   ]
  },
  {
   "cell_type": "code",
   "execution_count": 21,
   "id": "a44409f5",
   "metadata": {},
   "outputs": [
    {
     "name": "stdout",
     "output_type": "stream",
     "text": [
      "F1 Score : 0.86\n",
      "AUC ROC : 0.96\n",
      "Precision : 0.90\n"
     ]
    },
    {
     "data": {
      "image/png": "[encoded data removed]",
      "text/plain": [
       "<Figure size 432x288 with 2 Axes>"
      ]
     },
     "metadata": {
      "needs_background": "light"
     },
     "output_type": "display_data"
    }
   ],
   "source": [
    "rf = RandomForestClassifier(n_estimators=200, criterion='log_loss').fit(X_train, y_train)\n",
    "y_pred = rf.predict(X_test)\n",
    "y_pred_proba = rf.predict_proba(X_test)[:,1]\n",
    "print_evaluation_report(y_test, y_pred, y_pred_proba)"
   ]
  },
  {
   "cell_type": "code",
   "execution_count": null,
   "id": "1c006305",
   "metadata": {},
   "outputs": [],
   "source": []
  }
 ],
 "metadata": {
  "kernelspec": {
   "display_name": "Python 3 (ipykernel)",
   "language": "python",
   "name": "python3"
  },
  "language_info": {
   "codemirror_mode": {
    "name": "ipython",
    "version": 3
   },
   "file_extension": ".py",
   "mimetype": "text/x-python",
   "name": "python",
   "nbconvert_exporter": "python",
   "pygments_lexer": "ipython3",
   "version": "3.9.12"
  }
 },
 "nbformat": 4,
 "nbformat_minor": 5
}
